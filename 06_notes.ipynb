{
  "cells": [
    {
      "cell_type": "markdown",
      "metadata": {},
      "source": [
        "## Notes {.unnumbered}\n",
        "\n",
        "Before we can even get to the fun of data analysis, we first need to learn how to load in our data!\n",
        "\n",
        "![](images/DAmeme.png){dpi=\"300\" width=\"425\"}\n",
        "\n",
        "Today, we'll learn to work with the following categories of data inputs and outputs:\n",
        "\n",
        "-   Text\n",
        "-   Binary\n",
        "-   Web APIs\n",
        "-   Databases\n",
        "\n",
        "## Reading and Writing Data in Text Format\n",
        "\n",
        "### `read_csv` Arguments\n",
        "\n",
        "[Table 6.1](https://wesmckinney.com/book/accessing-data.html#tbl-table_parsing_functions) lists the various data types pandas can read.\n",
        "\n",
        "Each function can be called with `pd.read_*` (for example, `pd.read_csv`).\n",
        "\n",
        "::: callout-note\n",
        "Wes points out that the number of arguments can be overwhelming. `pd.read_csv` has about 50. The [pandas documentation](https://pandas.pydata.org/docs/reference/io.html) is a good resource for finding the right arguments.\n",
        ":::\n",
        "\n",
        "[Table 6.2](https://wesmckinney.com/book/accessing-data.html#tbl-table_read_csv_function) lists frequently used options in `pd.read_csv`.\n",
        "\n",
        "Let's import the [Palmer Penguins dataset](https://github.com/allisonhorst/palmerpenguins/blob/main/inst/extdata/penguins.csv) to explore this function and some of the csv arguments. *Note*: I added random numbers for month and day to demonstrate date parsing.\n"
      ],
      "id": "f71a23c1"
    },
    {
      "cell_type": "code",
      "metadata": {},
      "source": [
        "import pandas as pd\n",
        "\n",
        "penguins = pd.read_csv(\"data/penguins.csv\")\n",
        "\n",
        "penguins.head(5)"
      ],
      "id": "c02729f1",
      "execution_count": null,
      "outputs": []
    },
    {
      "cell_type": "markdown",
      "metadata": {},
      "source": [
        "#### Index Columns\n",
        "\n",
        "**Indexing** gets column names from the file or from this argument\n"
      ],
      "id": "ce480426"
    },
    {
      "cell_type": "code",
      "metadata": {},
      "source": [
        "penguins_indexed = pd.read_csv(\"data/penguins.csv\", index_col = \"species\")\n",
        "penguins_indexed.head(5)"
      ],
      "id": "e7555fe5",
      "execution_count": null,
      "outputs": []
    },
    {
      "cell_type": "markdown",
      "metadata": {},
      "source": [
        "#### Infer or Convert Data Type\n",
        "\n",
        "**Type inference and data conversion** converts values (including missing) to a user-defined value.\n",
        "\n",
        "If you data uses another string value as the missing placeholder, you can add it to `na_values`.\n"
      ],
      "id": "044a8f7a"
    },
    {
      "cell_type": "code",
      "metadata": {},
      "source": [
        "penguins_NA = pd.read_csv(\n",
        "  \"data/penguins.csv\", \n",
        "  na_values = [\"male\"]\n",
        "  )\n",
        "  \n",
        "penguins_NA.head(5)"
      ],
      "id": "c1e6f917",
      "execution_count": null,
      "outputs": []
    },
    {
      "cell_type": "markdown",
      "metadata": {},
      "source": [
        "#### Parse Date and Time\n",
        "\n",
        "**Date and time parsing** combines date and time from multiple columns into a single column\n"
      ],
      "id": "8f038723"
    },
    {
      "cell_type": "code",
      "metadata": {},
      "source": [
        "penguins_dates = pd.read_csv(\n",
        "  \"data/penguins.csv\", \n",
        "  parse_dates = {\"date\": [\"month\", \"day\", \"year\"]}\n",
        "  )\n",
        "  \n",
        "penguins_dates[\"date\"] = pd.to_datetime(\n",
        "  penguins_dates.date, \n",
        "  format = \"%m%d%Y\"\n",
        "  )\n",
        "  \n",
        "print(penguins_dates.date.head(5))\n",
        "\n",
        "print(penguins_dates.date.dtypes)"
      ],
      "id": "5f938ed5",
      "execution_count": null,
      "outputs": []
    },
    {
      "cell_type": "markdown",
      "metadata": {},
      "source": [
        "#### Iterate Through Large Files\n",
        "\n",
        "**Iterating** allows iteration over chunks of very large files\n",
        "\n",
        "Using `nrows` to read in only 5 rows:\n"
      ],
      "id": "f265e4ec"
    },
    {
      "cell_type": "code",
      "metadata": {},
      "source": [
        "pd.read_csv(\"data/penguins.csv\", nrows = 5\n",
        "  )"
      ],
      "id": "5102110c",
      "execution_count": null,
      "outputs": []
    },
    {
      "cell_type": "markdown",
      "metadata": {},
      "source": [
        "Using `chunksize` and the `TextFileReader` to aggregate and summarize the data by species:\n"
      ],
      "id": "f4981c36"
    },
    {
      "cell_type": "code",
      "metadata": {},
      "source": [
        "chunker = pd.read_csv(\"data/penguins.csv\", chunksize = 10)\n",
        "\n",
        "print(type(chunker))\n",
        "\n",
        "tot = pd.Series([], dtype = 'int64')\n",
        "for piece in chunker:\n",
        "    tot = tot.add(piece[\"species\"].value_counts(), fill_value = 0)\n",
        "\n",
        "tot"
      ],
      "id": "f7ccd593",
      "execution_count": null,
      "outputs": []
    },
    {
      "cell_type": "markdown",
      "metadata": {},
      "source": [
        "#### Import Semi-Clean Data\n",
        "\n",
        "**Unclean data issues** skips rows, comments, punctuation, etc.\n",
        "\n",
        "We can import a subset of the columns using `usecols` and change their names (`header = 0`; `names = [list]`).\n"
      ],
      "id": "4f21c751"
    },
    {
      "cell_type": "code",
      "metadata": {},
      "source": [
        "penguins_custom = pd.read_csv(\n",
        "  \"data/penguins.csv\", \n",
        "  usecols = [0,1,6],\n",
        "  header = 0, \n",
        "  names = [\"Species\", \"Island\", \"Sex\"]\n",
        "  )\n",
        "\n",
        "penguins_custom.head(5)"
      ],
      "id": "70c6d28a",
      "execution_count": null,
      "outputs": []
    },
    {
      "cell_type": "markdown",
      "metadata": {},
      "source": [
        "### Writing Data to Text Format\n",
        "\n",
        "To write to a csv file, we can use pandas DataFrame's `to_csv` method with `index = False` so the row numbers are not stored in the first column. Missing values are written as empty strings, we can specify a placeholder with `na_rep = \"NA\"`:\n"
      ],
      "id": "404eb54f"
    },
    {
      "cell_type": "code",
      "metadata": {},
      "source": [
        "penguins_custom.to_csv(\n",
        "  \"data/penguins_custom.csv\", \n",
        "  index = False,\n",
        "  na_rep = \"NA\"\n",
        "  )"
      ],
      "id": "91151eec",
      "execution_count": null,
      "outputs": []
    },
    {
      "cell_type": "markdown",
      "metadata": {},
      "source": [
        "::: {layout-ncol=\"2\"}\n",
        "![](images/penguins_custom_noArgs.png){width=\"317\"}\n",
        "\n",
        "![](images/penguins_custom.png){width=\"247\"}\n",
        ":::\n",
        "\n",
        "### Working with Other Delimited Formats\n",
        "\n",
        "#### Reading\n",
        "\n",
        "In case your tabular data makes pandas trip up and you need a little extra manual processing, you can use Python's built in `csv` module.\n",
        "\n",
        "Let's read in the penguins dataset the hard, manual way.\n"
      ],
      "id": "01988f9e"
    },
    {
      "cell_type": "code",
      "metadata": {},
      "source": [
        "import csv\n",
        "\n",
        "penguin_reader = csv.reader(penguins)\n",
        "\n",
        "print(penguin_reader)\n"
      ],
      "id": "51c4e924",
      "execution_count": null,
      "outputs": []
    },
    {
      "cell_type": "markdown",
      "metadata": {},
      "source": [
        "Now we have the `_csv_reader` object.\n",
        "\n",
        "Next, Wes iterated through the reader to print the lines, which seems to only give me the row with my headings.\n"
      ],
      "id": "fc5d18b9"
    },
    {
      "cell_type": "code",
      "metadata": {},
      "source": [
        "for line in penguin_reader:\n",
        "  print(line)"
      ],
      "id": "4437660c",
      "execution_count": null,
      "outputs": []
    },
    {
      "cell_type": "markdown",
      "metadata": {},
      "source": [
        "We'll keep following along to wrangle it into a form we can use:\n"
      ],
      "id": "3a946e1c"
    },
    {
      "cell_type": "code",
      "metadata": {},
      "source": [
        "with open(\"data/penguins.csv\") as penguin_reader:\n",
        "  lines = list(csv.reader(penguin_reader))\n",
        "  \n",
        "header, values = lines[0], lines[1:]\n",
        "\n",
        "print(header)\n",
        "print(values[5])"
      ],
      "id": "d7490840",
      "execution_count": null,
      "outputs": []
    },
    {
      "cell_type": "markdown",
      "metadata": {},
      "source": [
        "Now we have two lists: header and values. We use a dictionary of data columns and the expression `zip(*values)`. This combination of dictionary comprehension and expression is generally faster than iterating through a loop. However, Wes warns that this can use a lot of memory on large files.\n"
      ],
      "id": "747dc06a"
    },
    {
      "cell_type": "code",
      "metadata": {},
      "source": [
        "penguin_dict = {h: v for h, v in zip(header, zip(*values))}\n",
        "\n",
        "# too big to print and I'm not sure how to print a select few key-value pairs"
      ],
      "id": "b4e82ae4",
      "execution_count": null,
      "outputs": []
    },
    {
      "cell_type": "markdown",
      "metadata": {},
      "source": [
        "::: callout-note\n",
        "## Recall\n",
        "\n",
        "For a reminder on dictionary comprehensions, see [Chapter 3](https://wesmckinney.com/book/python-builtin.html#comprehensions).\n",
        ":::\n",
        "\n",
        "Now to finally get this into a usable dataframe we'll use pandas DataFrame `from_dict` method!\n"
      ],
      "id": "f666c78e"
    },
    {
      "cell_type": "code",
      "metadata": {},
      "source": [
        "penguin_df = pd.DataFrame.from_dict(penguin_dict)\n",
        "penguin_df.head(5)"
      ],
      "id": "0cbc0dc5",
      "execution_count": null,
      "outputs": []
    },
    {
      "cell_type": "markdown",
      "metadata": {},
      "source": [
        "#### `csv.Dialect`\n",
        "\n",
        "Since there are many kinds of delimited files, string quoting conventions, and line terminators, you may find yourself wanting to define a \"Dialect\" to read in your delimited file. The options available are found in [Table 6.3](https://wesmckinney.com/book/accessing-data.html#tbl-table_csv_dialect).\n",
        "\n",
        "You can either define a `csv.Dialect` subclass or pass dialect parameters to `csv.reader`.\n"
      ],
      "id": "7bbb126c"
    },
    {
      "cell_type": "code",
      "metadata": {},
      "source": [
        "# option 1\n",
        "\n",
        "## define a dialect subclass\n",
        "\n",
        "class my_dialect(csv.Dialect):\n",
        "    lineterminator = \"\\n\"\n",
        "    delimiter = \";\"\n",
        "    quotechar = '\"'\n",
        "    quoting = csv.QUOTE_MINIMAL\n",
        "    \n",
        "## use the subclass\n",
        "\n",
        "reader = csv.reader(penguins, dialect = my_dialect)\n",
        "\n",
        "# option 2\n",
        "\n",
        "## pass just dialect parameters\n",
        "\n",
        "reader = csv.reader(penguins, delimiter = \",\")"
      ],
      "id": "5acc62ad",
      "execution_count": null,
      "outputs": []
    },
    {
      "cell_type": "markdown",
      "metadata": {},
      "source": [
        "::: callout-tip\n",
        "## Recap for when to use what?\n",
        "\n",
        "For most data, pandas `read_*` functions, plus the overwhelming number of options, will likely get you close to what you need.\n",
        "\n",
        "If there are additional, minor wrangling needs, you can try using Python's `csv.reader` with either a `csv.Dialect` subclass or just by passing in dialect parameters.\n",
        "\n",
        "If you have complicated or multicharacter delimiters, you'll likely need to import the string module and use the `split` method or regular expression method `re.split`.\n",
        ":::\n",
        "\n",
        "#### Writing\n",
        "\n",
        "`csv.writer` is the companion to `csv.reader` with the same dialect and format options. The first argument in `open` is the path and filename you want to write to and the second argument `\"w\"` makes the file writeable.\n",
        "\n",
        "::: callout-note\n",
        "[Python documentation](https://docs.python.org/3/library/csv.html#id3) notes that `newline=\"\"` should be specified in case there are newlines embedded inside quoted fields to ensure they are interpreted correctly.\n",
        ":::\n"
      ],
      "id": "8df4c74b"
    },
    {
      "cell_type": "code",
      "metadata": {},
      "source": [
        "with open(\"data/write_data.csv\", \"w\", newline = \"\") as f:\n",
        "    writer = csv.writer(f, dialect = my_dialect)\n",
        "    writer.writerow((\"one\", \"two\", \"three\"))\n",
        "    writer.writerow((\"1\", \"2\", \"3\"))\n",
        "    writer.writerow((\"4\", \"5\", \"6\"))\n",
        "    writer.writerow((\"7\", \"8\", \"9\"))"
      ],
      "id": "c49ec8a9",
      "execution_count": null,
      "outputs": []
    },
    {
      "cell_type": "markdown",
      "metadata": {},
      "source": [
        "#### JavaScript Object Notation (JSON) Data\n",
        "\n",
        "Standard format for HTTP requests between web browsers, applications, and APIs. Its almost valid Python code:\n",
        "\n",
        "-   Instead of `NaN`, it uses `null`\n",
        "\n",
        "-   Doesn't allow trailing commas at end of lists\n",
        "\n",
        "-   Data types: objects (dictionaries), arrays (lists), strings, numbers, booleans, and nulls.\n",
        "\n",
        "We'll make up a simple file of my pets' names, types, and sex to demonstrate JSON data loading and writing.\n",
        "\n",
        "![](images/mts.jpg){width=\"319\"}\n",
        "\n",
        "Import the json module and use `json.loads` to convert a JSON string to Python. There are multiple ways to convert JSON objects to a DataFrame.\n"
      ],
      "id": "918950b2"
    },
    {
      "cell_type": "code",
      "metadata": {},
      "source": [
        "import json\n",
        "\n",
        "obj = \"\"\"\n",
        "{\"name\": \"Jadey\",\n",
        " \"pets\": [{\"name\": \"Mai\", \"type\": \"cat\", \"sex\": \"Female\"},\n",
        "          {\"name\": \"Tai\", \"type\": \"cat\", \"sex\": \"Male\"},\n",
        "          {\"name\": \"Skye\", \"type\": \"cat\", \"sex\": \"Female\"}]\n",
        "}\n",
        "\"\"\"\n",
        "\n",
        "json_to_py = json.loads(obj)\n",
        "\n",
        "print(json_to_py)\n",
        "type(json_to_py)"
      ],
      "id": "a802f6ce",
      "execution_count": null,
      "outputs": []
    },
    {
      "cell_type": "markdown",
      "metadata": {},
      "source": [
        "Since this imported the object as a dictionary, we can use `pd.DataFrame` to create a DataFrame of the pets' names, type, and sex.\n"
      ],
      "id": "d6056885"
    },
    {
      "cell_type": "code",
      "metadata": {},
      "source": [
        "pets_df = pd.DataFrame(json_to_py[\"pets\"], columns = [\"name\", \"type\", \"sex\"])\n",
        "\n",
        "print(type(pets_df))\n",
        "pets_df"
      ],
      "id": "9aec0779",
      "execution_count": null,
      "outputs": []
    },
    {
      "cell_type": "markdown",
      "metadata": {},
      "source": [
        "Use `json.dumps` to convert from Python (class: dictionary) back to JSON (class: string).\n"
      ],
      "id": "6b5ed0ba"
    },
    {
      "cell_type": "code",
      "metadata": {},
      "source": [
        "py_to_json = json.dumps(json_to_py)\n",
        "\n",
        "print(\"json_to_py type:\", type(json_to_py))\n",
        "print(\"py_to_json type:\", type(py_to_json))\n",
        "py_to_json"
      ],
      "id": "5f552633",
      "execution_count": null,
      "outputs": []
    },
    {
      "cell_type": "markdown",
      "metadata": {},
      "source": [
        "We can use pandas `pd.read_json` function and `to_json` DataFrame method to read and write JSON files.\n"
      ],
      "id": "05f9689a"
    },
    {
      "cell_type": "code",
      "metadata": {},
      "source": [
        "pets_df.to_json(\"data/pets.json\")"
      ],
      "id": "877e8e59",
      "execution_count": null,
      "outputs": []
    },
    {
      "cell_type": "markdown",
      "metadata": {},
      "source": [
        "We can easily import a JSON file using `pandas.read_json`.\n"
      ],
      "id": "6063159c"
    },
    {
      "cell_type": "code",
      "metadata": {},
      "source": [
        "pet_data = pd.read_json(\"data/pets.json\")\n",
        "pet_data"
      ],
      "id": "f5ac0c50",
      "execution_count": null,
      "outputs": []
    },
    {
      "cell_type": "markdown",
      "metadata": {},
      "source": [
        "### Web Scraping\n",
        "\n",
        "#### HTML\n",
        "\n",
        "`pd.read_html` uses libraries to read and write HTML and XML:\n",
        "\n",
        "-   Try: xlml \\[faster\\]\n",
        "\n",
        "-   Catch: beautifulsoup4 and html5lib \\[better equipped for malformed files\\]\n",
        "\n",
        "If you want to specify which parsing engine is used, you can use the `flavor` argument.\n"
      ],
      "id": "d1c1cad9"
    },
    {
      "cell_type": "code",
      "metadata": {},
      "source": [
        "tables = pd.read_html(\n",
        "  \"https://www.fdic.gov/resources/resolutions/bank-failures/failed-bank-list/\", \n",
        "  flavor = \"html5lib\"\n",
        "  )\n",
        "\n",
        "print(\"Table Length:\", len(tables))\n",
        "\n",
        "# since this outputs a list of tables, we can grab just the first table\n",
        "\n",
        "tables[0].head(5)"
      ],
      "id": "ffb10492",
      "execution_count": null,
      "outputs": []
    },
    {
      "cell_type": "markdown",
      "metadata": {},
      "source": [
        "#### XML\n",
        "\n",
        "XML format is more general than HTML, but they are structurally similar. See [pandas documentation](https://pandas.pydata.org/docs/reference/api/pandas.read_xml.html) for `pd.read_xml`.\n",
        "\n",
        "This snippet of an xml file is from [Microsoft](https://docs.microsoft.com/en-us/previous-versions/windows/desktop/ms762271(v=vs.85)).\n",
        "\n",
        "``` xml\n",
        "<catalog>\n",
        "   <book id=\"bk101\">\n",
        "      <author>Gambardella, Matthew</author>\n",
        "      <title>XML Developer's Guide</title>\n",
        "      <genre>Computer</genre>\n",
        "      <price>44.95</price>\n",
        "      <publish_date>2000-10-01</publish_date>\n",
        "      <description>An in-depth look at creating applications \n",
        "      with XML.</description>\n",
        "   </book>\n",
        "```\n"
      ],
      "id": "a8af4dd6"
    },
    {
      "cell_type": "code",
      "metadata": {},
      "source": [
        "books = pd.read_xml(\"data/books.xml\")\n",
        "\n",
        "books.head(5)"
      ],
      "id": "ae69ec25",
      "execution_count": null,
      "outputs": []
    },
    {
      "cell_type": "markdown",
      "metadata": {},
      "source": [
        "If you'd like to manually parse a file, Wes demonstrates this process in the [textbook](https://wesmckinney.com/book/accessing-data.html#io_file_formats_xml), before demonstrating how the following steps are turned into one line of code using `pd.read_xml`.\n",
        "\n",
        "1.  `from lxml import objectify`\n",
        "2.  Use `lxml.objectify`,\n",
        "3.  Create a dictionary of tag names to data values\n",
        "4.  Cnvert that list of dictionaries into a DataFrame.\n",
        "\n",
        "### Binary Data Formats\n",
        "\n",
        "#### Pickle\n",
        "\n",
        "Python has a built-in `pickle` module that converts pandas objects into the pickle format (serializes the data into a byte stream), which is generally readable only in Python.\n",
        "\n",
        "More information can be found in Python [documentation](https://docs.python.org/3/library/pickle.html).\n",
        "\n",
        "Here's a demo to show pickling and unpickling the penguins dataset.\n"
      ],
      "id": "9e11788b"
    },
    {
      "cell_type": "code",
      "metadata": {},
      "source": [
        "print(\"Unpickled penguins type:\", type(penguins))\n",
        "\n",
        "penguins.to_pickle(\"data/penguins_pickle\")\n",
        "\n",
        "# do some machine learning\n",
        "\n",
        "pickled_penguins = pd.read_pickle(\"data/penguins_pickle\")\n",
        "pickled_penguins"
      ],
      "id": "de3838ff",
      "execution_count": null,
      "outputs": []
    },
    {
      "cell_type": "markdown",
      "metadata": {},
      "source": [
        "::: callout-warning\n",
        "`pickle` is recommended only as a short-term storage format (i.e. loading and unloading your machine learning models) because the format may not be stable over time. Also, the module is not secure -- pickle data can be maliciously tampered with. [Python docs](https://docs.python.org/3/library/pickle.html) recommend signing data with `hmac` to ensure it hasn't been tampered with.\n",
        ":::\n",
        "\n",
        "#### Microsoft Excel Files\n",
        "\n",
        "`pd.ExcelFile` class or `pd.read_excel` functions use packages `xlrd` (for older .xlx files) and `openpyxl` (for newer .xlsx files), which must be installed separately from pandas.\n",
        "\n",
        "``` bash\n",
        "conda install xlrd openpyxl\n",
        "```\n",
        "\n",
        "`pd.read_excel` takes most of the same arguments as `pd.read_csv`.\n"
      ],
      "id": "9586ea45"
    },
    {
      "cell_type": "code",
      "metadata": {},
      "source": [
        "penguins_excel = pd.read_excel(\n",
        "  \"data/penguins.xlsx\", \n",
        "  index_col = \"species\",\n",
        "  parse_dates = {\"date\": [\"month\", \"day\", \"year\"]}\n",
        ")\n",
        "\n",
        "penguins_excel.head(5)"
      ],
      "id": "fdfeaeb8",
      "execution_count": null,
      "outputs": []
    },
    {
      "cell_type": "markdown",
      "metadata": {},
      "source": [
        "To read multiple sheets, use `pd.ExcelFile`.\n"
      ],
      "id": "c1798029"
    },
    {
      "cell_type": "code",
      "metadata": {},
      "source": [
        "penguins_sheets = pd.ExcelFile(\"data/penguins_sheets.xlsx\")\n",
        "\n",
        "print(\"Available sheet names:\", penguins_sheets.sheet_names)\n",
        "\n",
        "penguins_sheets"
      ],
      "id": "8dc7ec1d",
      "execution_count": null,
      "outputs": []
    },
    {
      "cell_type": "markdown",
      "metadata": {},
      "source": [
        "Then we can `parse` all sheets into a dictionary by specifying the `sheet_name` argument as `None`. Or, we can read in a subset of sheets.\n"
      ],
      "id": "db245c94"
    },
    {
      "cell_type": "code",
      "metadata": {},
      "source": [
        "sheets = penguins_sheets.parse(sheet_name = None)\n",
        "\n",
        "sheets"
      ],
      "id": "5002b161",
      "execution_count": null,
      "outputs": []
    },
    {
      "cell_type": "markdown",
      "metadata": {},
      "source": [
        "Then we can subset one of the sheets as a pandas DataFrame object.\n"
      ],
      "id": "c8d27da8"
    },
    {
      "cell_type": "code",
      "metadata": {},
      "source": [
        "chinstrap = sheets[\"chinstrap\"].head(5)\n",
        "chinstrap"
      ],
      "id": "d2e0f78f",
      "execution_count": null,
      "outputs": []
    },
    {
      "cell_type": "markdown",
      "metadata": {},
      "source": [
        "Write one sheet to using `to_excel:`\n"
      ],
      "id": "95a36f3b"
    },
    {
      "cell_type": "code",
      "metadata": {},
      "source": [
        "chinstrap.to_excel(\"data/chinstrap.xlsx\")"
      ],
      "id": "bae11b80",
      "execution_count": null,
      "outputs": []
    },
    {
      "cell_type": "markdown",
      "metadata": {},
      "source": [
        "If you want to write to multiple sheets, create an `ExcelWriter` class and then write the data to it:\n"
      ],
      "id": "ff23b48d"
    },
    {
      "cell_type": "code",
      "metadata": {},
      "source": [
        "gentoo = sheets[\"gentoo\"].head(5)\n",
        "\n",
        "writer = pd.ExcelWriter(\"data/chinstrap_gentoo.xlsx\")\n",
        "\n",
        "chinstrap.to_excel(writer, sheet_name = \"chinstrap\")\n",
        "\n",
        "gentoo.to_excel(writer, sheet_name = \"gentoo\")\n",
        "\n",
        "writer.save()"
      ],
      "id": "aff9c5db",
      "execution_count": null,
      "outputs": []
    },
    {
      "cell_type": "markdown",
      "metadata": {},
      "source": [
        "#### HDF5 Format\n",
        "\n",
        "Hierarchical data format (HDF) is used in Python, C, Java, Julia, MATLAB, and others for storing big scientific array data (multiple datasets and metadata within one file). HDF5 can be used to efficiently read/write chunks of large arrays.\n",
        "\n",
        "The PyTables package must first be installed.\n",
        "\n",
        "``` bash\n",
        "conda install pytables\n",
        "\n",
        "pip install tables # the package is called \"tables\" in PyPI\n",
        "```\n",
        "\n",
        "pandas provides an dictionary-like-class for HDF5 files called `HDFStore`:\n"
      ],
      "id": "0de56ffd"
    },
    {
      "cell_type": "code",
      "metadata": {},
      "source": [
        "store = pd.HDFStore(\"data/pets.h5\")\n",
        "\n",
        "store[\"pets\"] = pets_df\n",
        "store[\"pets\"]"
      ],
      "id": "beabda71",
      "execution_count": null,
      "outputs": []
    },
    {
      "cell_type": "markdown",
      "metadata": {},
      "source": [
        "`HDFStore` can store data as a `fixed` or as a `table` schema. Table allows querying but is generally slower.\n"
      ],
      "id": "67419945"
    },
    {
      "cell_type": "code",
      "metadata": {},
      "source": [
        "pets_df.to_hdf(\"data/petnames.h5\", \"pets\", format = \"table\")\n",
        "pd.read_hdf(\"data/petnames.h5\", \"pets\", where=[\"columns = name\"])"
      ],
      "id": "28daf9a4",
      "execution_count": null,
      "outputs": []
    },
    {
      "cell_type": "markdown",
      "metadata": {},
      "source": [
        "::: callout-tip\n",
        "## When should I use HDF5?\n",
        "\n",
        "Wes recommends using HDF5 for write-once, read-many datasets that are worked with locally. If your data is stored on remote servers, then you may try other binary formats designed for distributed storage (for example, [Apache Parquet](https://parquet.apache.org/)).\n",
        ":::\n",
        "\n",
        "### Interacting with Web APIs\n",
        "\n",
        "To access data from APIs, Wes suggests using the [requests](http://docs.python-requests.org/) package.\n",
        "\n",
        "``` bash\n",
        "conda install requests\n",
        "```\n",
        "\n",
        "Let's pull from this free zoo animal API.\n"
      ],
      "id": "081991a8"
    },
    {
      "cell_type": "code",
      "metadata": {},
      "source": [
        "import requests\n",
        "\n",
        "url = \"https://zoo-animal-api.herokuapp.com/animals/rand\"\n",
        "\n",
        "resp = requests.get(url)\n",
        "\n",
        "resp.raise_for_status()\n",
        "\n",
        "print(\"HTTP status\", resp)\n",
        "\n",
        "animal = resp.json()\n",
        "animal\n",
        "\n",
        "animal_df = pd.DataFrame([animal]) # important to wrap the dictionary object into a list\n",
        "animal_df"
      ],
      "id": "bf9df9f4",
      "execution_count": null,
      "outputs": []
    },
    {
      "cell_type": "markdown",
      "metadata": {},
      "source": [
        "::: callout-note\n",
        "It is important to note that the dictionary is wrapped into a list. If it isn't, then you will get the following error: `ValueError: If using all scalar values, you must pass an index`.\n",
        ":::\n",
        "\n",
        "### Interacting with Databases\n",
        "\n",
        "Some popular SQL-based relational databases are: SQL Server, PostgreSQL, MySQL, SQLite3. We can use pandas to load the results of a SQL query into a DataFrame.\n",
        "\n",
        "Import sqlite3 and create a database.\n"
      ],
      "id": "b3f2e90c"
    },
    {
      "cell_type": "code",
      "metadata": {},
      "source": [
        "import sqlite3\n",
        "\n",
        "con = sqlite3.connect(\"data/data.sqlite\")"
      ],
      "id": "9a254988",
      "execution_count": null,
      "outputs": []
    },
    {
      "cell_type": "markdown",
      "metadata": {},
      "source": [
        "This creates a table.\n"
      ],
      "id": "a7abca28"
    },
    {
      "cell_type": "code",
      "metadata": {},
      "source": [
        "#| eval: false\n",
        "\n",
        "query = \"\"\"\n",
        "  CREATE TABLE states\n",
        "  (Capital VARCHAR(20), State VARCHAR(20),\n",
        "  x1 REAL, x2 INTEGER\n",
        ");\"\"\"\n",
        "\n",
        "con.execute(query)\n",
        "\n",
        "con.commit()"
      ],
      "id": "9316923c",
      "execution_count": null,
      "outputs": []
    },
    {
      "cell_type": "markdown",
      "metadata": {},
      "source": [
        "This inserts the rows of data:\n"
      ],
      "id": "1e317b71"
    },
    {
      "cell_type": "code",
      "metadata": {},
      "source": [
        "data = [(\"Atlanta\", \"Georgia\", 1.25, 6), (\"Seattle\", \"Washington\", 2.6, 3), (\"Sacramento\", \"California\", 1.7, 5)]\n",
        "        \n",
        "stmt = \"INSERT INTO states VALUES(?, ?, ?, ?)\"\n",
        "\n",
        "con.executemany(stmt, data)\n",
        "\n",
        "con.commit()"
      ],
      "id": "de7fd5e9",
      "execution_count": null,
      "outputs": []
    },
    {
      "cell_type": "markdown",
      "metadata": {},
      "source": [
        "Now we can look at the data:\n"
      ],
      "id": "86488099"
    },
    {
      "cell_type": "code",
      "metadata": {},
      "source": [
        "cursor = con.execute(\"SELECT * FROM states\")\n",
        "\n",
        "rows = cursor.fetchall()\n",
        "\n",
        "rows"
      ],
      "id": "2c546066",
      "execution_count": null,
      "outputs": []
    },
    {
      "cell_type": "markdown",
      "metadata": {},
      "source": [
        "To get the data into a pandas DataFrame, we'll need to provide column names in the `cursor.description`.\n"
      ],
      "id": "a748eef0"
    },
    {
      "cell_type": "code",
      "metadata": {},
      "source": [
        "print(cursor.description)\n",
        "\n",
        "pd.DataFrame(rows, columns = [x[0] for x in cursor.description])"
      ],
      "id": "d82971a2",
      "execution_count": null,
      "outputs": []
    },
    {
      "cell_type": "markdown",
      "metadata": {},
      "source": [
        "As per usual, Wes likes to show us the manual way first and then the easier version. Using [SQLAlchemy](http://www.sqlalchemy.org/), we can must less verbosely create our DataFrame.\n"
      ],
      "id": "0111ddbf"
    },
    {
      "cell_type": "code",
      "metadata": {},
      "source": [
        "import sqlalchemy as sqla\n",
        "\n",
        "db = sqla.create_engine(\"sqlite:///data/data.sqlite\")\n",
        "\n",
        "pd.read_sql(\"SELECT * FROM states\", db)"
      ],
      "id": "05104324",
      "execution_count": null,
      "outputs": []
    }
  ],
  "metadata": {
    "kernelspec": {
      "name": "python3",
      "language": "python",
      "display_name": "Python 3 (ipykernel)"
    }
  },
  "nbformat": 4,
  "nbformat_minor": 5
}